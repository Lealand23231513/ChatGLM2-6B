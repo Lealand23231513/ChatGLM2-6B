{
 "cells": [
  {
   "cell_type": "code",
   "execution_count": 1,
   "metadata": {},
   "outputs": [
    {
     "ename": "ValueError",
     "evalue": "Unrecognized model identifier in chatglm2-6b-int4. Should contains one of 'bert', 'openai-gpt', 'gpt2', 'transfo-xl', 'xlnet', 'xlm', 'roberta', 'ctrl'",
     "output_type": "error",
     "traceback": [
      "\u001b[1;31m---------------------------------------------------------------------------\u001b[0m",
      "\u001b[1;31mValueError\u001b[0m                                Traceback (most recent call last)",
      "Cell \u001b[1;32mIn[1], line 2\u001b[0m\n\u001b[0;32m      1\u001b[0m \u001b[39mfrom\u001b[39;00m \u001b[39mtransformers\u001b[39;00m \u001b[39mimport\u001b[39;00m AutoTokenizer, AutoModel\n\u001b[1;32m----> 2\u001b[0m tokenizer \u001b[39m=\u001b[39m AutoTokenizer\u001b[39m.\u001b[39;49mfrom_pretrained(\u001b[39m\"\u001b[39;49m\u001b[39mchatglm2-6b-int4\u001b[39;49m\u001b[39m\"\u001b[39;49m, trust_remote_code\u001b[39m=\u001b[39;49m\u001b[39mTrue\u001b[39;49;00m)\n\u001b[0;32m      3\u001b[0m model \u001b[39m=\u001b[39m AutoModel\u001b[39m.\u001b[39mfrom_pretrained(\u001b[39m\"\u001b[39m\u001b[39mchatglm2-6b-int4\u001b[39m\u001b[39m\"\u001b[39m, trust_remote_code\u001b[39m=\u001b[39m\u001b[39mTrue\u001b[39;00m, device\u001b[39m=\u001b[39m\u001b[39m'\u001b[39m\u001b[39mcuda\u001b[39m\u001b[39m'\u001b[39m)\n\u001b[0;32m      4\u001b[0m model \u001b[39m=\u001b[39m model\u001b[39m.\u001b[39meval()\n",
      "File \u001b[1;32mc:\\Users\\15135\\.conda\\envs\\myagent\\Lib\\site-packages\\transformers\\tokenization_auto.py:122\u001b[0m, in \u001b[0;36mAutoTokenizer.from_pretrained\u001b[1;34m(cls, pretrained_model_name_or_path, *inputs, **kwargs)\u001b[0m\n\u001b[0;32m    120\u001b[0m \u001b[39melif\u001b[39;00m \u001b[39m'\u001b[39m\u001b[39mctrl\u001b[39m\u001b[39m'\u001b[39m \u001b[39min\u001b[39;00m pretrained_model_name_or_path:\n\u001b[0;32m    121\u001b[0m     \u001b[39mreturn\u001b[39;00m CTRLTokenizer\u001b[39m.\u001b[39mfrom_pretrained(pretrained_model_name_or_path, \u001b[39m*\u001b[39minputs, \u001b[39m*\u001b[39m\u001b[39m*\u001b[39mkwargs)\n\u001b[1;32m--> 122\u001b[0m \u001b[39mraise\u001b[39;00m \u001b[39mValueError\u001b[39;00m(\u001b[39m\"\u001b[39m\u001b[39mUnrecognized model identifier in \u001b[39m\u001b[39m{}\u001b[39;00m\u001b[39m. Should contains one of \u001b[39m\u001b[39m\"\u001b[39m\n\u001b[0;32m    123\u001b[0m                  \u001b[39m\"\u001b[39m\u001b[39m'\u001b[39m\u001b[39mbert\u001b[39m\u001b[39m'\u001b[39m\u001b[39m, \u001b[39m\u001b[39m'\u001b[39m\u001b[39mopenai-gpt\u001b[39m\u001b[39m'\u001b[39m\u001b[39m, \u001b[39m\u001b[39m'\u001b[39m\u001b[39mgpt2\u001b[39m\u001b[39m'\u001b[39m\u001b[39m, \u001b[39m\u001b[39m'\u001b[39m\u001b[39mtransfo-xl\u001b[39m\u001b[39m'\u001b[39m\u001b[39m, \u001b[39m\u001b[39m'\u001b[39m\u001b[39mxlnet\u001b[39m\u001b[39m'\u001b[39m\u001b[39m, \u001b[39m\u001b[39m\"\u001b[39m\n\u001b[0;32m    124\u001b[0m                  \u001b[39m\"\u001b[39m\u001b[39m'\u001b[39m\u001b[39mxlm\u001b[39m\u001b[39m'\u001b[39m\u001b[39m, \u001b[39m\u001b[39m'\u001b[39m\u001b[39mroberta\u001b[39m\u001b[39m'\u001b[39m\u001b[39m, \u001b[39m\u001b[39m'\u001b[39m\u001b[39mctrl\u001b[39m\u001b[39m'\u001b[39m\u001b[39m\"\u001b[39m\u001b[39m.\u001b[39mformat(pretrained_model_name_or_path))\n",
      "\u001b[1;31mValueError\u001b[0m: Unrecognized model identifier in chatglm2-6b-int4. Should contains one of 'bert', 'openai-gpt', 'gpt2', 'transfo-xl', 'xlnet', 'xlm', 'roberta', 'ctrl'"
     ]
    }
   ],
   "source": [
    "from transformers import AutoTokenizer, AutoModel\n",
    "tokenizer = AutoTokenizer.from_pretrained(\"chatglm2-6b-int4\", trust_remote_code=True)\n",
    "model = AutoModel.from_pretrained(\"chatglm2-6b-int4\", trust_remote_code=True, device='cuda')\n",
    "model = model.eval()\n",
    "response, history = model.chat(tokenizer, \"你好\", history=[])\n",
    "print(response)"
   ]
  },
  {
   "cell_type": "code",
   "execution_count": 4,
   "metadata": {},
   "outputs": [],
   "source": [
    "response, history = model.chat(tokenizer, \"晚上睡不着应该怎么办\", history=history)"
   ]
  },
  {
   "cell_type": "code",
   "execution_count": 5,
   "metadata": {},
   "outputs": [
    {
     "name": "stdout",
     "output_type": "stream",
     "text": [
      "如果你晚上睡不着，可以尝试以下一些方法来帮助你入睡：\n",
      "\n",
      "1. 放松自己：试着进行放松练习，如深呼吸、冥想或进行伸展运动。\n",
      "\n",
      "2. 调整你的环境：确保你的房间安静、黑暗、凉爽和舒适。\n",
      "\n",
      "3. 规律作息：尽量在同一时间点上床和起床，遵循规律的作息时间表。\n",
      "\n",
      "4. 避免刺激：避免在睡觉前看电子屏幕、吃油腻或辛辣的食物，喝咖啡或茶。\n",
      "\n",
      "5. 放松自己：试着听轻柔的音乐或进行冥想，缓解压力和放松自己。\n",
      "\n",
      "6. 不要躺在床上睡觉：如果你躺在床上超过20分钟还不能入睡，不要继续躺在床上，可以去做一些轻松的活动，如阅读或听轻柔的音乐，直到感到困倦再返回床上。\n",
      "\n",
      "7. 寻求帮助：如果你经常晚上睡不着或睡眠质量不好，可以寻求医生或睡眠专家的帮助。\n"
     ]
    }
   ],
   "source": [
    "print(response)"
   ]
  },
  {
   "cell_type": "code",
   "execution_count": 7,
   "metadata": {},
   "outputs": [],
   "source": [
    "response, history = model.chat(tokenizer, \"What shall I do if I can't fall asleep at night?\", history=history)"
   ]
  },
  {
   "cell_type": "code",
   "execution_count": 8,
   "metadata": {},
   "outputs": [
    {
     "name": "stdout",
     "output_type": "stream",
     "text": [
      "If you can't fall asleep at night, there are several things you can try to help yourself fall asleep and have a good night's sleep. Here are some suggestions:\n",
      "\n",
      "1. Relaxation exercises: Try doing some relaxation exercises, such as deep breathing or meditation, to help calm you down and relax your mind.\n",
      "\n",
      "2. Adjust your environment: Make sure your room is dark, cool, and comfortable.\n",
      "\n",
      "3. Keep a regular sleep schedule: Try to go to bed and wake up at the same time every day, even on weekends or days you're not working.\n",
      "\n",
      "4. Avoid stimulating materials: Avoid watching TV, eating food that's spicy or greasy, or drinking coffee or tea before bedtime.\n",
      "\n",
      "5. Relaxation music or meditation: Try listening to gentle music or doing meditation to help reduce stress and help you relax.\n",
      "\n",
      "6. Avoid躺在 the bed: If you're lying in bed for more than 20 minutes and you still can't fall asleep, don't lie there. Instead, try doing some light activities, such as reading or listening to music, until you feel sleepy.\n",
      "\n",
      "7. Seek help: If you're having trouble falling asleep or having a poor sleep quality, try talking to a doctor or a sleep specialist. They may be able to offer some advice or help you find a solution that works for you.\n"
     ]
    }
   ],
   "source": [
    "print(response)"
   ]
  },
  {
   "cell_type": "code",
   "execution_count": 2,
   "metadata": {},
   "outputs": [
    {
     "name": "stdout",
     "output_type": "stream",
     "text": [
      "2.1.1\n"
     ]
    }
   ],
   "source": [
    "import transformers\n",
    "print(transformers.__version__)"
   ]
  }
 ],
 "metadata": {
  "kernelspec": {
   "display_name": "Python 3",
   "language": "python",
   "name": "python3"
  },
  "language_info": {
   "codemirror_mode": {
    "name": "ipython",
    "version": 3
   },
   "file_extension": ".py",
   "mimetype": "text/x-python",
   "name": "python",
   "nbconvert_exporter": "python",
   "pygments_lexer": "ipython3",
   "version": "3.11.4"
  },
  "orig_nbformat": 4
 },
 "nbformat": 4,
 "nbformat_minor": 2
}
